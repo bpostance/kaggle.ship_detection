{
 "cells": [
  {
   "cell_type": "markdown",
   "metadata": {},
   "source": [
    "# Deep Learning Image Analysis: from classification to object detection\n",
    "\n",
    "### aim & objectives\n",
    " - types of image problems:\n",
    "\n",
    "### Image classification using [traditional models](https://www.kaggle.com/paultimothymooney/identifying-ships-in-satellite-images) and [CNN](https://www.kaggle.com/byrachonok/keras-for-search-ships-in-satellite-image/data) \n",
    " - naive search of every grid. \n",
    "\n",
    "### Faster & R-CNN \n",
    " - [how?](https://towardsdatascience.com/object-detection-using-deep-learning-approaches-an-end-to-end-theoretical-perspective-4ca27eee8a9a)\n",
    " - [model architecture](https://www.google.com/search?safe=off&client=firefox-b-d&biw=1920&bih=944&tbm=isch&sxsrf=ACYBGNTq8L8VssH0YjeLE9j6fnynr8s-NQ%3A1571063513138&sa=1&ei=2YakXbmJCMyU1fAP0K2JuAg&q=rcnn+natural+hazards&oq=rcnn+natural+hazards&gs_l=img.3...13442.13442..13734...0.0..0.82.82.1......0....1..gws-wiz-img.Ns-uZljXdGw&ved=0ahUKEwj52frU-5vlAhVMShUIHdBWAocQ4dUDCAY&uact=5#imgrc=YRC0etr8RdpLTM:)\n",
    "- how to use transfer learning (DSIS airbus).\n",
    "\n",
    "### Practival Applications\n",
    " - image class\n",
    " - [mapping humanitatian settlements](http://air.ug/~jquinn/papers/PhilTransRoyalSoc2018_machine_learning_satellite.pdf)\n",
    " - [natural hazards]()\n"
   ]
  },
  {
   "cell_type": "code",
   "execution_count": null,
   "metadata": {},
   "outputs": [],
   "source": []
  },
  {
   "cell_type": "markdown",
   "metadata": {},
   "source": [
    "# Refs\n",
    " - https://leonardoaraujosantos.gitbooks.io/artificial-inteligence/content/object_localization_and_detection.html\n",
    " - https://towardsdatascience.com/object-detection-using-deep-learning-approaches-an-end-to-end-theoretical-perspective-4ca27eee8a9a\n",
    " - https://www.analyticsvidhya.com/blog/2018/11/implementation-faster-r-cnn-python-object-detection/\n",
    " - https://github.com/kbardool/keras-frcnn\n",
    " - http://cs231n.github.io/\n",
    " - https://www.kaggle.com/paultimothymooney/identifying-ships-in-satellite-images\n",
    " - https://www.kaggle.com/byrachonok/keras-for-search-ships-in-satellite-image/data\n",
    " - https://earthobservatory.nasa.gov/images/76193/landslides-in-sikkim\n",
    " - https://www.google.com/search?safe=off&client=firefox-b-d&biw=1920&bih=944&tbm=isch&sxsrf=ACYBGNTq8L8VssH0YjeLE9j6fnynr8s-NQ%3A1571063513138&sa=1&ei=2YakXbmJCMyU1fAP0K2JuAg&q=rcnn+natural+hazards&oq=rcnn+natural+hazards&gs_l=img.3...13442.13442..13734...0.0..0.82.82.1......0....1..gws-wiz-img.Ns-uZljXdGw&ved=0ahUKEwj52frU-5vlAhVMShUIHdBWAocQ4dUDCAY&uact=5#imgrc=YRC0etr8RdpLTM:\n",
    " - http://air.ug/~jquinn/papers/PhilTransRoyalSoc2018_machine_learning_satellite.pdf\n"
   ]
  },
  {
   "cell_type": "code",
   "execution_count": null,
   "metadata": {},
   "outputs": [],
   "source": []
  }
 ],
 "metadata": {
  "kernelspec": {
   "display_name": "Python [conda env:kaggle-ship]",
   "language": "python",
   "name": "conda-env-kaggle-ship-py"
  },
  "language_info": {
   "codemirror_mode": {
    "name": "ipython",
    "version": 3
   },
   "file_extension": ".py",
   "mimetype": "text/x-python",
   "name": "python",
   "nbconvert_exporter": "python",
   "pygments_lexer": "ipython3",
   "version": "3.7.3"
  }
 },
 "nbformat": 4,
 "nbformat_minor": 2
}
